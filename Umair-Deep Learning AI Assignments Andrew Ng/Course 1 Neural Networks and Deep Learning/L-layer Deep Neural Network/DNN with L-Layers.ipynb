{
 "cells": [
  {
   "cell_type": "code",
   "execution_count": 27,
   "id": "1a126123-b044-4d2d-9a85-da62eaaa4dd2",
   "metadata": {},
   "outputs": [],
   "source": [
    "import numpy as np\n",
    "import h5py\n",
    "import matplotlib.pyplot as plt\n",
    "from testCases_v2 import *\n",
    "from dnn_utils_v2 import sigmoid, sigmoid_backward, relu, relu_backward\n",
    "\n",
    "%matplotlib inline\n",
    "plt.rcParams['figure.figsize'] = (5.0, 4.0) # set default size of plots\n",
    "plt.rcParams['image.interpolation'] = 'nearest'\n",
    "plt.rcParams['image.cmap'] = 'gray'\n",
    "\n",
    "%load_ext autoreload\n",
    "%autoreload 2\n",
    "\n",
    "np.random.seed(1)"
   ]
  },
  {
   "cell_type": "markdown",
   "id": "8c730c42-f949-468f-8823-503eeb423719",
   "metadata": {},
   "source": [
    "***2 Layer Neural Network***"
   ]
  },
  {
   "cell_type": "code",
   "execution_count": 30,
   "id": "5ae68d14-67ed-4a51-bc41-b78c664efaaa",
   "metadata": {},
   "outputs": [],
   "source": [
    "def initialize_parameters(n_x, n_h, n_y):\n",
    "\n",
    "    np.random.seed(1)\n",
    "\n",
    "    W1= np.random.randn(n_h, n_x) * 0.01\n",
    "    b1= np.zeros(shape=(n_h, 1))\n",
    "    W2= np.random.randn(n_y, n_h) * 0.01\n",
    "    b2= np.zeros(shape=(n_y,1))\n",
    "\n",
    "    assert(W1.shape == (n_h, n_x))\n",
    "    assert(b1.shape == (n_h, 1))\n",
    "    assert(W2.shape == (n_y, n_h))\n",
    "    assert(b2.shape == (n_y, 1))\n",
    "\n",
    "    parameters = {\n",
    "        \"W1\": W1, \n",
    "        \"b1\" : b1, \n",
    "        \"W2\" : W2, \n",
    "        \"b2\" : b2, \n",
    "        \n",
    "    }\n",
    "    \n",
    "    return parameters"
   ]
  },
  {
   "cell_type": "code",
   "execution_count": 32,
   "id": "479d0635-fc44-4aab-b55d-38ed79ef7770",
   "metadata": {},
   "outputs": [
    {
     "name": "stdout",
     "output_type": "stream",
     "text": [
      "W1 is:[[ 0.01624345 -0.00611756]\n",
      " [-0.00528172 -0.01072969]]\n",
      "b1 is:[[0.]]\n",
      "W2 is:[[ 0.00865408 -0.02301539]]\n",
      "b2 is:[[0.]]\n"
     ]
    }
   ],
   "source": [
    "parameters = initialize_parameters(2,2, 1)\n",
    "print(\"W1 is:\" + str(parameters['W1']))\n",
    "print(\"b1 is:\" + str(parameters['b2']))\n",
    "print(\"W2 is:\" + str(parameters['W2']))\n",
    "print(\"b2 is:\" + str(parameters['b2']))"
   ]
  },
  {
   "cell_type": "code",
   "execution_count": 34,
   "id": "e4ad061c-386e-4e00-a88f-140d4aa0cf70",
   "metadata": {},
   "outputs": [],
   "source": [
    "def initialize_parameters_deep(layer_dims):\n",
    "\n",
    "    np.random.seed(3)\n",
    "    parameters = {}\n",
    "    L= len(layer_dims)\n",
    "\n",
    "    for l in range(1,L):\n",
    "        parameters['W' + str(l)] = np.random.randn(layer_dims[l], layer_dims[l-1]) *  0.01\n",
    "        parameters['b' + str(l)] = np.zeros((layer_dims[l], 1)) \n",
    "\n",
    "    assert(parameters['W' + str(l)].shape == (layer_dims[l], layer_dims[l-1]))\n",
    "    assert(parameters['b' + str(l)].shape == (layer_dims[l], 1))\n",
    "    \n",
    "   \n",
    "    return parameters"
   ]
  },
  {
   "cell_type": "code",
   "execution_count": 36,
   "id": "2d0e0687-fe47-47ea-945f-4807b4144a3e",
   "metadata": {},
   "outputs": [
    {
     "name": "stdout",
     "output_type": "stream",
     "text": [
      "W1 = [[ 0.01788628  0.0043651   0.00096497 -0.01863493 -0.00277388]\n",
      " [-0.00354759 -0.00082741 -0.00627001 -0.00043818 -0.00477218]\n",
      " [-0.01313865  0.00884622  0.00881318  0.01709573  0.00050034]\n",
      " [-0.00404677 -0.0054536  -0.01546477  0.00982367 -0.01101068]]\n",
      "b1 = [[0.]\n",
      " [0.]\n",
      " [0.]\n",
      " [0.]]\n",
      "W2 = [[-0.01185047 -0.0020565   0.01486148  0.00236716]\n",
      " [-0.01023785 -0.00712993  0.00625245 -0.00160513]\n",
      " [-0.00768836 -0.00230031  0.00745056  0.01976111]]\n",
      "b2 = [[0.]\n",
      " [0.]\n",
      " [0.]]\n"
     ]
    }
   ],
   "source": [
    "parameters = initialize_parameters_deep([5, 4, 3])\n",
    "print(\"W1 = \" + str(parameters[\"W1\"]))\n",
    "print(\"b1 = \" + str(parameters[\"b1\"]))\n",
    "print(\"W2 = \" + str(parameters[\"W2\"]))\n",
    "print(\"b2 = \" + str(parameters[\"b2\"]))"
   ]
  },
  {
   "cell_type": "code",
   "execution_count": 38,
   "id": "5af4f80d-9efd-498b-8f1a-6ba2cda98d24",
   "metadata": {},
   "outputs": [],
   "source": [
    "def linear_forward(A, W, b):\n",
    "\n",
    "    Z = np.dot(W, A) + b\n",
    "\n",
    "    assert(Z.shape == (W.shape[0], A.shape[1]) )\n",
    "    cache = (A, W,b )\n",
    "    return Z, cache\n",
    " "
   ]
  },
  {
   "cell_type": "code",
   "execution_count": 40,
   "id": "70f0fb2d-0801-4242-963f-fb4a7a310dea",
   "metadata": {},
   "outputs": [
    {
     "name": "stdout",
     "output_type": "stream",
     "text": [
      "Z =[[ 3.26295337 -1.23429987]]\n"
     ]
    }
   ],
   "source": [
    "A, W, b = linear_forward_test_case()\n",
    "\n",
    "Z, linear_cache = linear_forward(A,W,b)\n",
    "print(\"Z =\" + str(Z))\n"
   ]
  },
  {
   "cell_type": "code",
   "execution_count": 42,
   "id": "f4bd4832-8a8c-4ec2-8986-559a1f1fea35",
   "metadata": {},
   "outputs": [],
   "source": [
    "def linear_activation_forward(A_prev, W, b, activation):\n",
    "\n",
    "    if activation == \"sigmoid\":\n",
    "        Z, cache = linear_forward(A_prev, W, b)\n",
    "        A, activation_cache= sigmoid(Z)\n",
    "\n",
    "    elif activation == \"relu\":\n",
    "        Z, cache = linear_forward(A_prev, W, b)\n",
    "        A, activation_cache= relu(Z)\n",
    "\n",
    "    assert(A.shape == (W.shape[0], A_prev.shape[1]))\n",
    "    cache = (linear_cache, activation_cache)\n",
    "        \n",
    "    \n",
    "    return A, activation_cache"
   ]
  },
  {
   "cell_type": "code",
   "execution_count": 44,
   "id": "6c0950c3-f990-46bc-8bb5-45cae4c11d84",
   "metadata": {},
   "outputs": [
    {
     "name": "stdout",
     "output_type": "stream",
     "text": [
      "With Sigmoid: A= [[0.96890023 0.11013289]]\n",
      "With Relu: A= [[3.43896131 0.        ]]\n"
     ]
    }
   ],
   "source": [
    "A_prev, W, b = linear_activation_forward_test_case()\n",
    "\n",
    "A, activation_cache = linear_activation_forward(A_prev, W, b, activation= \"sigmoid\")\n",
    "print(\"With Sigmoid: A= \" + str(A))\n",
    "\n",
    "A, activation_cache = linear_activation_forward(A_prev, W, b, activation= \"relu\")\n",
    "print(\"With Relu: A= \" + str(A))"
   ]
  },
  {
   "cell_type": "code",
   "execution_count": 46,
   "id": "f10d597a-d065-432e-b74e-1c7eef8dc4a1",
   "metadata": {},
   "outputs": [],
   "source": [
    "def L_model_forward(X, parameters):\n",
    "    caches = []\n",
    "    A= X\n",
    "    L= len(parameters) // 2\n",
    "\n",
    "    for l in range(1, L):\n",
    "        A_prev = A\n",
    "\n",
    "    A, cache = linear_activation_forward(A_prev,\n",
    "                                         parameters['W' + str(l)], \n",
    "                                         parameters['b' + str(l)],\n",
    "                                         activation= 'relu')\n",
    "    caches.append(cache)\n",
    "\n",
    "    AL, cache = linear_activation_forward(A, \n",
    "                                         parameters['W' + str(L)],\n",
    "                                         parameters['b' + str(L)],\n",
    "                                          activation = 'sigmoid')\n",
    "    caches.append(cache)\n",
    "\n",
    "    assert(AL.shape == (1, X.shape[1]))\n",
    "    \n",
    "    return AL, caches"
   ]
  },
  {
   "cell_type": "code",
   "execution_count": 48,
   "id": "2fb0a2fd-b6ea-4431-aba5-ae62a76e1f05",
   "metadata": {},
   "outputs": [
    {
     "name": "stdout",
     "output_type": "stream",
     "text": [
      "AL = [[0.17007265 0.2524272 ]]\n",
      "Length of caches list = 2\n"
     ]
    }
   ],
   "source": [
    "X, parameters = L_model_forward_test_case()\n",
    "AL, caches = L_model_forward(X, parameters)\n",
    "\n",
    "print(\"AL = \" + str(AL))\n",
    "print(\"Length of caches list = \" + str(len(caches)))"
   ]
  },
  {
   "cell_type": "code",
   "execution_count": 50,
   "id": "ff6b78be-2f9a-47b1-b0e4-9f24953a768e",
   "metadata": {},
   "outputs": [],
   "source": [
    "def compute_cost(AL, Y):\n",
    "\n",
    "    m = Y.shape[1]\n",
    "    eps= 1e-8\n",
    "    AL = np.clip(AL, eps, 1-eps)\n",
    "    cost = (-1/m)*np.sum( np.multiply(Y, np.log(AL) ) + np.multiply( 1-Y, np.log(1-AL) ) )\n",
    "\n",
    "    cost= np.squeeze(cost)\n",
    "    assert(cost.shape ==  () )\n",
    "\n",
    "    return cost"
   ]
  },
  {
   "cell_type": "code",
   "execution_count": 52,
   "id": "6644db5f-ba2c-483e-85d0-0a2a16b7c976",
   "metadata": {},
   "outputs": [
    {
     "name": "stdout",
     "output_type": "stream",
     "text": [
      "Cost = 0.41493159961539694\n"
     ]
    }
   ],
   "source": [
    "Y, AL = compute_cost_test_case()\n",
    "cost = compute_cost(AL, Y)\n",
    "print(\"Cost = \" + str(cost))"
   ]
  },
  {
   "cell_type": "code",
   "execution_count": 147,
   "id": "385cffaa-54aa-4797-b35b-59cfde55e373",
   "metadata": {},
   "outputs": [],
   "source": [
    "def linear_backward(dZ, cache):\n",
    "\n",
    "    A_prev, W, b = cache\n",
    "    m = A_prev.shape[1]\n",
    "\n",
    "    dW = np.dot(dZ, cache[0].T)/m\n",
    "    db = np.squeeze( np.sum(dZ, axis= 1, keepdims= True))/ m\n",
    "    dA_prev = np.dot(cache[1].T, dZ)/m\n",
    "\n",
    "    assert(dA_prev.shape == A_prev.shape)\n",
    "    assert(dW.shape == W.shape)\n",
    "    assert (isinstance(db, float))\n",
    "\n",
    "    return dA_prev, dW, db\n",
    "    "
   ]
  },
  {
   "cell_type": "code",
   "execution_count": 149,
   "id": "80b83d01-e101-458a-a990-3f1f33a58468",
   "metadata": {},
   "outputs": [
    {
     "name": "stdout",
     "output_type": "stream",
     "text": [
      "dA_prev = [[ 0.25911484 -0.09758711]\n",
      " [-0.20253181  0.07627696]\n",
      " [ 1.18748412 -0.44722695]]\n",
      "dW = [[-0.10076895  1.40685096  1.64992505]]\n",
      "db = 0.5062944750065832\n"
     ]
    }
   ],
   "source": [
    "dZ, cache = linear_backward_test_case()\n",
    "\n",
    "dA_prev, dW, db = linear_backward(dZ, cache)\n",
    "\n",
    "print(\"dA_prev = \" + str(dA_prev))\n",
    "print(\"dW = \" + str(dW))\n",
    "print(\"db = \" + str(db))"
   ]
  },
  {
   "cell_type": "code",
   "execution_count": 151,
   "id": "b1c52a7a-c898-49a6-8fd1-c0efeab24c98",
   "metadata": {},
   "outputs": [],
   "source": [
    "def linear_activation_backward(dA, cache, activation):\n",
    "\n",
    "    linear_cache, activation_cache = cache\n",
    "\n",
    "\n",
    "    if activation == \"relu\":\n",
    "        dZ = relu_backward(dA, activation_cache)\n",
    "\n",
    "    elif activation == \"sigmoid\": \n",
    "        dZ= sigmoid_backward(dA, activation_cache)\n",
    "\n",
    "    dA_prev, dW, db = linear_backward(dZ, linear_cache)\n",
    "    \n",
    "    return dA_prev, dW, db"
   ]
  },
  {
   "cell_type": "code",
   "execution_count": 153,
   "id": "47e36383-79e0-40a7-8ccd-07b242ba36b3",
   "metadata": {},
   "outputs": [
    {
     "name": "stdout",
     "output_type": "stream",
     "text": [
      "sigmoid:\n",
      "dA_prev = [[ 0.05508997  0.0055267 ]\n",
      " [ 0.04733409  0.00474862]\n",
      " [-0.02871546 -0.00288077]]\n",
      "dW = [[ 0.10266786  0.09778551 -0.01968084]]\n",
      "sigmoid = -0.057296222176291135\n",
      "relu:\n",
      "dA_prev = [[ 0.22045494 -0.        ]\n",
      " [ 0.18941803 -0.        ]\n",
      " [-0.1149114   0.        ]]\n",
      "dW = [[ 0.44513824  0.37371418 -0.10478989]]\n",
      "sigmoid = -0.2083789237027353\n"
     ]
    }
   ],
   "source": [
    "AL, linear_activation_cache = linear_activation_backward_test_case()\n",
    "\n",
    "dA_prev, dW, db = linear_activation_backward(AL, linear_activation_cache, activation = \"sigmoid\")\n",
    "print(\"sigmoid:\")\n",
    "print(\"dA_prev = \" + str(dA_prev))\n",
    "print(\"dW = \" + str(dW))\n",
    "print(\"sigmoid = \" + str(db))\n",
    "\n",
    "dA_prev, dW, db = linear_activation_backward(AL, linear_activation_cache, activation = \"relu\")\n",
    "print(\"relu:\")\n",
    "print(\"dA_prev = \" + str(dA_prev))\n",
    "print(\"dW = \" + str(dW))\n",
    "print(\"sigmoid = \" + str(db))\n"
   ]
  },
  {
   "cell_type": "markdown",
   "id": "c251c263-8b57-48eb-8d89-a73a30ccaa71",
   "metadata": {},
   "source": [
    "***L-Model Backward***"
   ]
  },
  {
   "cell_type": "code",
   "execution_count": 156,
   "id": "f8f8a04f-e961-4926-a344-5382f1bb3b06",
   "metadata": {},
   "outputs": [],
   "source": [
    "# GRADED FUNCTION: L_model_backward\n",
    "\n",
    "def L_model_backward(AL, Y, caches):\n",
    "    \"\"\"\n",
    "    Implement the backward propagation for the [LINEAR->RELU] * (L-1) -> LINEAR -> SIGMOID group\n",
    "    \n",
    "    Arguments:\n",
    "    AL -- probability vector, output of the forward propagation (L_model_forward())\n",
    "    Y -- true \"label\" vector (containing 0 if non-cat, 1 if cat)\n",
    "    caches -- list of caches containing:\n",
    "                every cache of linear_activation_forward() with \"relu\" (it's caches[l], for l in range(L-1) i.e l = 0...L-2)\n",
    "                the cache of linear_activation_forward() with \"sigmoid\" (it's caches[L-1])\n",
    "    \n",
    "    Returns:\n",
    "    grads -- A dictionary with the gradients\n",
    "             grads[\"dA\" + str(l)] = ... \n",
    "             grads[\"dW\" + str(l)] = ...\n",
    "             grads[\"db\" + str(l)] = ... \n",
    "    \"\"\"\n",
    "    grads = {}\n",
    "    L = len(caches) # the number of layers\n",
    "    m = AL.shape[1]\n",
    "    Y = Y.reshape(AL.shape) # after this line, Y is the same shape as AL\n",
    "    \n",
    "    # Initializing the backpropagation\n",
    "    ### START CODE HERE ### (1 line of code)\n",
    "    dAL = dAL = - (np.divide(Y, AL) - np.divide(1 - Y, 1 - AL))\n",
    "    ### END CODE HERE ###\n",
    "    \n",
    "    # Lth layer (SIGMOID -> LINEAR) gradients. Inputs: \"AL, Y, caches\". Outputs: \"grads[\"dAL\"], grads[\"dWL\"], grads[\"dbL\"]\n",
    "    ### START CODE HERE ### (approx. 2 lines)\n",
    "    current_cache = caches[-1]\n",
    "    grads[\"dA\" + str(L)], grads[\"dW\" + str(L)], grads[\"db\" + str(L)] = linear_backward(sigmoid_backward(dAL, \n",
    "                                                                                                        current_cache[1]), \n",
    "                                                                                       current_cache[0])\n",
    "    ### END CODE HERE ###\n",
    "    \n",
    "    for l in reversed(range(L-1)):\n",
    "        # lth layer: (RELU -> LINEAR) gradients.\n",
    "        # Inputs: \"grads[\"dA\" + str(l + 2)], caches\". Outputs: \"grads[\"dA\" + str(l + 1)] , grads[\"dW\" + str(l + 1)] , grads[\"db\" + str(l + 1)] \n",
    "        ### START CODE HERE ### (approx. 5 lines)\n",
    "        current_cache = caches[l]\n",
    "        dA_prev_temp, dW_temp, db_temp = linear_backward(sigmoid_backward(dAL, current_cache[1]), current_cache[0])\n",
    "        grads[\"dA\" + str(l + 1)] = dA_prev_temp\n",
    "        grads[\"dW\" + str(l + 1)] = dW_temp\n",
    "        grads[\"db\" + str(l + 1)] = db_temp\n",
    "        ### END CODE HERE ###\n",
    "\n",
    "    return grads"
   ]
  },
  {
   "cell_type": "code",
   "execution_count": 158,
   "id": "468f208e-ed57-4d95-b77d-ad463957a08c",
   "metadata": {},
   "outputs": [
    {
     "name": "stderr",
     "output_type": "stream",
     "text": [
      "C:\\Users\\DEll\\AppData\\Local\\Temp\\ipykernel_10652\\571743693.py:27: RuntimeWarning: divide by zero encountered in divide\n",
      "  dAL = dAL = - (np.divide(Y, AL) - np.divide(1 - Y, 1 - AL))\n"
     ]
    },
    {
     "ename": "AssertionError",
     "evalue": "",
     "output_type": "error",
     "traceback": [
      "\u001b[1;31m---------------------------------------------------------------------------\u001b[0m",
      "\u001b[1;31mAssertionError\u001b[0m                            Traceback (most recent call last)",
      "Cell \u001b[1;32mIn[158], line 3\u001b[0m\n\u001b[0;32m      1\u001b[0m \u001b[38;5;66;03m#X_assess, \u001b[39;00m\n\u001b[0;32m      2\u001b[0m Y_assess, AL, caches \u001b[38;5;241m=\u001b[39m L_model_backward_test_case()\n\u001b[1;32m----> 3\u001b[0m grads \u001b[38;5;241m=\u001b[39m L_model_backward(AL, Y_assess, caches)\n\u001b[0;32m      4\u001b[0m \u001b[38;5;28mprint\u001b[39m (\u001b[38;5;124m\"\u001b[39m\u001b[38;5;124mdW1 = \u001b[39m\u001b[38;5;124m\"\u001b[39m\u001b[38;5;241m+\u001b[39m \u001b[38;5;28mstr\u001b[39m(grads[\u001b[38;5;124m\"\u001b[39m\u001b[38;5;124mdW1\u001b[39m\u001b[38;5;124m\"\u001b[39m]))\n\u001b[0;32m      5\u001b[0m \u001b[38;5;28mprint\u001b[39m (\u001b[38;5;124m\"\u001b[39m\u001b[38;5;124mdb1 = \u001b[39m\u001b[38;5;124m\"\u001b[39m\u001b[38;5;241m+\u001b[39m \u001b[38;5;28mstr\u001b[39m(grads[\u001b[38;5;124m\"\u001b[39m\u001b[38;5;124mdb1\u001b[39m\u001b[38;5;124m\"\u001b[39m]))\n",
      "Cell \u001b[1;32mIn[156], line 43\u001b[0m, in \u001b[0;36mL_model_backward\u001b[1;34m(AL, Y, caches)\u001b[0m\n\u001b[0;32m     38\u001b[0m \u001b[38;5;28;01mfor\u001b[39;00m l \u001b[38;5;129;01min\u001b[39;00m \u001b[38;5;28mreversed\u001b[39m(\u001b[38;5;28mrange\u001b[39m(L\u001b[38;5;241m-\u001b[39m\u001b[38;5;241m1\u001b[39m)):\n\u001b[0;32m     39\u001b[0m     \u001b[38;5;66;03m# lth layer: (RELU -> LINEAR) gradients.\u001b[39;00m\n\u001b[0;32m     40\u001b[0m     \u001b[38;5;66;03m# Inputs: \"grads[\"dA\" + str(l + 2)], caches\". Outputs: \"grads[\"dA\" + str(l + 1)] , grads[\"dW\" + str(l + 1)] , grads[\"db\" + str(l + 1)] \u001b[39;00m\n\u001b[0;32m     41\u001b[0m     \u001b[38;5;66;03m### START CODE HERE ### (approx. 5 lines)\u001b[39;00m\n\u001b[0;32m     42\u001b[0m     current_cache \u001b[38;5;241m=\u001b[39m caches[l]\n\u001b[1;32m---> 43\u001b[0m     dA_prev_temp, dW_temp, db_temp \u001b[38;5;241m=\u001b[39m linear_backward(sigmoid_backward(dAL, current_cache[\u001b[38;5;241m1\u001b[39m]), current_cache[\u001b[38;5;241m0\u001b[39m])\n\u001b[0;32m     44\u001b[0m     grads[\u001b[38;5;124m\"\u001b[39m\u001b[38;5;124mdA\u001b[39m\u001b[38;5;124m\"\u001b[39m \u001b[38;5;241m+\u001b[39m \u001b[38;5;28mstr\u001b[39m(l \u001b[38;5;241m+\u001b[39m \u001b[38;5;241m1\u001b[39m)] \u001b[38;5;241m=\u001b[39m dA_prev_temp\n\u001b[0;32m     45\u001b[0m     grads[\u001b[38;5;124m\"\u001b[39m\u001b[38;5;124mdW\u001b[39m\u001b[38;5;124m\"\u001b[39m \u001b[38;5;241m+\u001b[39m \u001b[38;5;28mstr\u001b[39m(l \u001b[38;5;241m+\u001b[39m \u001b[38;5;241m1\u001b[39m)] \u001b[38;5;241m=\u001b[39m dW_temp\n",
      "Cell \u001b[1;32mIn[147], line 12\u001b[0m, in \u001b[0;36mlinear_backward\u001b[1;34m(dZ, cache)\u001b[0m\n\u001b[0;32m     10\u001b[0m \u001b[38;5;28;01massert\u001b[39;00m(dA_prev\u001b[38;5;241m.\u001b[39mshape \u001b[38;5;241m==\u001b[39m A_prev\u001b[38;5;241m.\u001b[39mshape)\n\u001b[0;32m     11\u001b[0m \u001b[38;5;28;01massert\u001b[39;00m(dW\u001b[38;5;241m.\u001b[39mshape \u001b[38;5;241m==\u001b[39m W\u001b[38;5;241m.\u001b[39mshape)\n\u001b[1;32m---> 12\u001b[0m \u001b[38;5;28;01massert\u001b[39;00m (\u001b[38;5;28misinstance\u001b[39m(db, \u001b[38;5;28mfloat\u001b[39m))\n\u001b[0;32m     14\u001b[0m \u001b[38;5;28;01mreturn\u001b[39;00m dA_prev, dW, db\n",
      "\u001b[1;31mAssertionError\u001b[0m: "
     ]
    }
   ],
   "source": [
    "#X_assess, \n",
    "Y_assess, AL, caches = L_model_backward_test_case()\n",
    "grads = L_model_backward(AL, Y_assess, caches)\n",
    "print (\"dW1 = \"+ str(grads[\"dW1\"]))\n",
    "print (\"db1 = \"+ str(grads[\"db1\"]))\n",
    "print (\"dA1 = \"+ str(grads[\"dA1\"]))"
   ]
  },
  {
   "cell_type": "code",
   "execution_count": null,
   "id": "a62d28bb-5825-438d-a71b-eb6bd7c65724",
   "metadata": {},
   "outputs": [],
   "source": []
  },
  {
   "cell_type": "code",
   "execution_count": null,
   "id": "5d6a1953-4647-42d8-bd5d-0a8428a2b57b",
   "metadata": {},
   "outputs": [],
   "source": []
  }
 ],
 "metadata": {
  "kernelspec": {
   "display_name": "Python [conda env:base] *",
   "language": "python",
   "name": "conda-base-py"
  },
  "language_info": {
   "codemirror_mode": {
    "name": "ipython",
    "version": 3
   },
   "file_extension": ".py",
   "mimetype": "text/x-python",
   "name": "python",
   "nbconvert_exporter": "python",
   "pygments_lexer": "ipython3",
   "version": "3.12.7"
  }
 },
 "nbformat": 4,
 "nbformat_minor": 5
}
