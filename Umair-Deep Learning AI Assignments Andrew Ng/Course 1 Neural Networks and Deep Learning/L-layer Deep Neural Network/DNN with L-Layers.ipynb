{
 "cells": [
  {
   "cell_type": "code",
   "execution_count": 29,
   "id": "1a126123-b044-4d2d-9a85-da62eaaa4dd2",
   "metadata": {},
   "outputs": [],
   "source": [
    "import numpy as np\n",
    "import h5py\n",
    "import matplotlib.pyplot as plt\n",
    "from testCases_v2 import *\n",
    "from dnn_utils_v2 import sigmoid, sigmoid_backward, relu, relu_backward"
   ]
  },
  {
   "cell_type": "markdown",
   "id": "8c730c42-f949-468f-8823-503eeb423719",
   "metadata": {},
   "source": [
    "***2 Layer Neural Network***"
   ]
  },
  {
   "cell_type": "code",
   "execution_count": 37,
   "id": "5ae68d14-67ed-4a51-bc41-b78c664efaaa",
   "metadata": {},
   "outputs": [],
   "source": [
    "def initialize_parameters(n_x, n_h, n_y):\n",
    "\n",
    "    np.random.seed(1)\n",
    "\n",
    "    W1= np.random.randn(n_h, n_x) * 0.01\n",
    "    b1= np.zeros(shape=(n_h, 1))\n",
    "    W2= np.random.randn(n_y, n_h) * 0.01\n",
    "    b2= np.zeros(shape=(n_y,1))\n",
    "\n",
    "    assert(W1.shape == (n_h, n_x))\n",
    "    assert(b1.shape == (n_h, 1))\n",
    "    assert(W2.shape == (n_y, n_h))\n",
    "    assert(b2.shape == (n_y, 1))\n",
    "\n",
    "    parameters = {\n",
    "        \"W1\": W1, \n",
    "        \"b1\" : b1, \n",
    "        \"W2\" : W2, \n",
    "        \"b2\" : b2, \n",
    "        \n",
    "    }\n",
    "    \n",
    "    return parameters"
   ]
  },
  {
   "cell_type": "code",
   "execution_count": 51,
   "id": "479d0635-fc44-4aab-b55d-38ed79ef7770",
   "metadata": {},
   "outputs": [
    {
     "name": "stdout",
     "output_type": "stream",
     "text": [
      "W1 is:[[ 0.01624345 -0.00611756]\n",
      " [-0.00528172 -0.01072969]]\n",
      "b1 is:[[0.]]\n",
      "W2 is:[[ 0.00865408 -0.02301539]]\n",
      "b2 is:[[0.]]\n"
     ]
    }
   ],
   "source": [
    "parameters = initialize_parameters(2,2, 1)\n",
    "print(\"W1 is:\" + str(parameters['W1']))\n",
    "print(\"b1 is:\" + str(parameters['b2']))\n",
    "print(\"W2 is:\" + str(parameters['W2']))\n",
    "print(\"b2 is:\" + str(parameters['b2']))"
   ]
  },
  {
   "cell_type": "code",
   "execution_count": null,
   "id": "e4ad061c-386e-4e00-a88f-140d4aa0cf70",
   "metadata": {},
   "outputs": [],
   "source": []
  },
  {
   "cell_type": "code",
   "execution_count": null,
   "id": "5af4f80d-9efd-498b-8f1a-6ba2cda98d24",
   "metadata": {},
   "outputs": [],
   "source": []
  }
 ],
 "metadata": {
  "kernelspec": {
   "display_name": "Python [conda env:base] *",
   "language": "python",
   "name": "conda-base-py"
  },
  "language_info": {
   "codemirror_mode": {
    "name": "ipython",
    "version": 3
   },
   "file_extension": ".py",
   "mimetype": "text/x-python",
   "name": "python",
   "nbconvert_exporter": "python",
   "pygments_lexer": "ipython3",
   "version": "3.12.7"
  }
 },
 "nbformat": 4,
 "nbformat_minor": 5
}
