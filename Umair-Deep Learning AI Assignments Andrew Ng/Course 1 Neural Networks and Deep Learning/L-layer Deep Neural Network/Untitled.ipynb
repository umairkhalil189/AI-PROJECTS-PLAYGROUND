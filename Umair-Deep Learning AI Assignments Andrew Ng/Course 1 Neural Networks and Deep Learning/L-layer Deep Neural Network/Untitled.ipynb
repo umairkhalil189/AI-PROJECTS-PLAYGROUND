{
 "cells": [
  {
   "cell_type": "code",
   "execution_count": 11,
   "id": "1a126123-b044-4d2d-9a85-da62eaaa4dd2",
   "metadata": {},
   "outputs": [
    {
     "ename": "SyntaxError",
     "evalue": "invalid syntax (3738468962.py, line 4)",
     "output_type": "error",
     "traceback": [
      "\u001b[1;36m  Cell \u001b[1;32mIn[11], line 4\u001b[1;36m\u001b[0m\n\u001b[1;33m    form testCases import *\u001b[0m\n\u001b[1;37m         ^\u001b[0m\n\u001b[1;31mSyntaxError\u001b[0m\u001b[1;31m:\u001b[0m invalid syntax\n"
     ]
    }
   ],
   "source": [
    "import numpy as np\n",
    "import h5py\n",
    "import matplotlib.pyplot as plt\n",
    "form testCases import *"
   ]
  },
  {
   "cell_type": "code",
   "execution_count": null,
   "id": "483e922d-7699-4b8a-9923-f43c75872cb8",
   "metadata": {},
   "outputs": [],
   "source": []
  }
 ],
 "metadata": {
  "kernelspec": {
   "display_name": "Python [conda env:base] *",
   "language": "python",
   "name": "conda-base-py"
  },
  "language_info": {
   "codemirror_mode": {
    "name": "ipython",
    "version": 3
   },
   "file_extension": ".py",
   "mimetype": "text/x-python",
   "name": "python",
   "nbconvert_exporter": "python",
   "pygments_lexer": "ipython3",
   "version": "3.12.7"
  }
 },
 "nbformat": 4,
 "nbformat_minor": 5
}
