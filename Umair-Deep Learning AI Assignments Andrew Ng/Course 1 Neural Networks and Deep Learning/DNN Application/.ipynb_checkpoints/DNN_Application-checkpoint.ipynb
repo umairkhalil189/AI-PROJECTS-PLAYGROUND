{
 "cells": [
  {
   "cell_type": "code",
   "execution_count": 1,
   "id": "ab43946b-ff04-4260-8ed5-427b380f8508",
   "metadata": {},
   "outputs": [],
   "source": [
    "import time\n",
    "import numpy as np\n",
    "import h5py\n",
    "import matplotlib.pyplot as plt\n",
    "import scipy\n",
    "from PIL import Image\n",
    "from scipy import ndimage\n",
    "from dnn_app_utils_v2 import *"
   ]
  },
  {
   "cell_type": "code",
   "execution_count": null,
   "id": "bce3edfc-6758-4dbb-b02d-af0774ebcb45",
   "metadata": {},
   "outputs": [],
   "source": []
  }
 ],
 "metadata": {
  "kernelspec": {
   "display_name": "Python [conda env:base] *",
   "language": "python",
   "name": "conda-base-py"
  },
  "language_info": {
   "codemirror_mode": {
    "name": "ipython",
    "version": 3
   },
   "file_extension": ".py",
   "mimetype": "text/x-python",
   "name": "python",
   "nbconvert_exporter": "python",
   "pygments_lexer": "ipython3",
   "version": "3.12.7"
  }
 },
 "nbformat": 4,
 "nbformat_minor": 5
}
