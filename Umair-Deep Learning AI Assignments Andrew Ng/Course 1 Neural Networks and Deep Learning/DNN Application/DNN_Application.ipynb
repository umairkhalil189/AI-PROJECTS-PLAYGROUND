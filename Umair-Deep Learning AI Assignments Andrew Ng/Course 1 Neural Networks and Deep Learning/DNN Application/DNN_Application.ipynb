{
 "cells": [
  {
   "cell_type": "code",
   "execution_count": 181,
   "id": "ab43946b-ff04-4260-8ed5-427b380f8508",
   "metadata": {},
   "outputs": [
    {
     "name": "stdout",
     "output_type": "stream",
     "text": [
      "The autoreload extension is already loaded. To reload it, use:\n",
      "  %reload_ext autoreload\n"
     ]
    }
   ],
   "source": [
    "import time\n",
    "import numpy as np\n",
    "import h5py\n",
    "import matplotlib.pyplot as plt\n",
    "import scipy\n",
    "from PIL import Image\n",
    "from scipy import ndimage\n",
    "from dnn_app_utils_v2 import *\n",
    "\n",
    "%matplotlib inline\n",
    "plt.rcParams['figure.figsize'] = (5.0, 4.0) # set default size of plots\n",
    "plt.rcParams['image.interpolation'] = 'nearest'\n",
    "plt.rcParams['image.cmap'] = 'gray'\n",
    "\n",
    "%load_ext autoreload\n",
    "%autoreload 2\n",
    "\n",
    "#np.random.seed(1)"
   ]
  },
  {
   "cell_type": "code",
   "execution_count": 183,
   "id": "bce3edfc-6758-4dbb-b02d-af0774ebcb45",
   "metadata": {},
   "outputs": [],
   "source": [
    "train_x_orig, train_y, test_x_orig, test_y, classes = load_data()"
   ]
  },
  {
   "cell_type": "code",
   "execution_count": 185,
   "id": "a01eb83b-f205-4159-8e48-95c2b4f47e5f",
   "metadata": {},
   "outputs": [
    {
     "name": "stdout",
     "output_type": "stream",
     "text": [
      "y = 1.Its a cat picture\n"
     ]
    }
   ],
   "source": [
    "index = 2\n",
    "plt.imshow(train_x_orig[index])\n",
    "print(\"y = \" + str(train_y[0, index]) + \".Its a \" + classes[train_y[0 , index]].decode(\"utf-8\") + \" picture\")"
   ]
  },
  {
   "cell_type": "code",
   "execution_count": 187,
   "id": "492a11dd-e10b-4d54-b728-25d7b993a4cc",
   "metadata": {},
   "outputs": [
    {
     "name": "stdout",
     "output_type": "stream",
     "text": [
      "No of training examples are:  209\n",
      "No of testing examples are:  50\n",
      "Each Image is of size:  64 64 3\n",
      "Train_x_orig Shape(209, 64, 64, 3)\n",
      "Train_y(1, 209)\n",
      "Test_x_orig Shape(50, 64, 64, 3)\n",
      "Test_y Shape(1, 50)\n"
     ]
    }
   ],
   "source": [
    "m_train = train_x_orig.shape[0]\n",
    "num_px = train_x_orig.shape[1]\n",
    "m_test = test_x_orig.shape[0]\n",
    "\n",
    "print(\"No of training examples are: \", m_train)\n",
    "print(\"No of testing examples are: \", m_test)\n",
    "print(\"Each Image is of size: \"  , num_px, num_px, \"3\")\n",
    "print(\"Train_x_orig Shape\" + str(train_x_orig.shape))\n",
    "print(\"Train_y\" + str(train_y.shape))\n",
    "print(\"Test_x_orig Shape\" + str(test_x_orig.shape))\n",
    "print(\"Test_y Shape\" + str(test_y.shape))"
   ]
  },
  {
   "cell_type": "code",
   "execution_count": 189,
   "id": "b76d7a82-abbc-4be6-a881-a1e66543900a",
   "metadata": {},
   "outputs": [
    {
     "name": "stdout",
     "output_type": "stream",
     "text": [
      "(12288, 209)\n",
      "(12288, 50)\n"
     ]
    }
   ],
   "source": [
    "train_x_flatten = train_x_orig.reshape(train_x_orig.shape[0], -1).T\n",
    "test_x_flatten = test_x_orig.reshape(test_x_orig.shape[0],-1).T\n",
    "\n",
    "train_x = train_x_flatten/255\n",
    "test_x = test_x_flatten/255\n",
    "\n",
    "print(train_x_flatten.shape)\n",
    "print(test_x_flatten.shape)"
   ]
  },
  {
   "cell_type": "markdown",
   "id": "034dd5b6-2102-4c98-90e6-18f6809ae5f8",
   "metadata": {},
   "source": [
    "***Architecture of Model Now***"
   ]
  },
  {
   "cell_type": "markdown",
   "id": "21d2f244-6d01-4318-bfb9-f86758a8687c",
   "metadata": {},
   "source": [
    "**Two Layer NN**"
   ]
  },
  {
   "cell_type": "code",
   "execution_count": 193,
   "id": "10286975-c3e5-4f82-8246-ab5de6fd4ecd",
   "metadata": {},
   "outputs": [],
   "source": [
    "n_x = train_x_flatten.shape[0]\n",
    "n_h= 7 \n",
    "n_y= 1\n",
    "layer_dims= (n_x, n_h, n_y)"
   ]
  },
  {
   "cell_type": "code",
   "execution_count": 200,
   "id": "ee186eb9-6199-4068-be6a-2ab2665edfe2",
   "metadata": {},
   "outputs": [],
   "source": [
    "def two_layer_model(X,Y, layer_dims, learning_rate= 0.0075, num_iterations= 3000, print_cost= False):\n",
    "\n",
    "    np.random.seed(1)\n",
    "    grads= {}\n",
    "    costs = []\n",
    "    m= X.shape[1]\n",
    "    (n_x, n_h, n_y) = layer_dims\n",
    "\n",
    "    parameters= initialize_parameters(n_x, n_h, n_y)\n",
    "\n",
    "    W1= parameters[\"W1\"]\n",
    "    b1= parameters[\"b1\"]\n",
    "    W2= parameters[\"W2\"]\n",
    "    b2= parameters[\"b2\"]\n",
    "\n",
    "    for i in range(0 , num_iterations):\n",
    "        A1, cache1 = linear_activation_forward(X, W1, b1, 'relu')\n",
    "        A2, cache2 = linear_activation_forward(A1, W2, b2, 'sigmoid')\n",
    "\n",
    "        cost = compute_cost(A2, Y)\n",
    "\n",
    "        dA2 = - (np.divide(Y, A2) - np.divide(1- Y, 1-A2) )\n",
    "\n",
    "        dA1, dW2, db2 = linear_activation_backward(dA2, cache2, 'sigmoid')\n",
    "        dA0, dW1, db1 =  linear_activation_backward(dA1, cache1, 'relu')\n",
    "\n",
    "        grads['dW1'] = dW1\n",
    "        grads['db1'] = db1\n",
    "        grads['dW2'] = dW2\n",
    "        grads['db2'] = db2\n",
    "\n",
    "\n",
    "        parameters = update_parameters(parameters, grads, learning_rate)\n",
    "\n",
    "        W1= parameters[\"W1\"]\n",
    "        b1= parameters[\"b1\"]\n",
    "        W2= parameters[\"W2\"]\n",
    "        b2= parameters[\"b2\"]\n",
    "        \n",
    "        if print_cost and i%100 ==0:\n",
    "            print(\"Cost after every iteration {}: {} \".format(i, np.squeeze(cost)))\n",
    "        if print_cost and i %100 == 0:\n",
    "            costs.append(cost)\n",
    "    plt.clf()\n",
    "    plt.plot(np.squeeze(costs))\n",
    "    plt.ylabel('Cost')\n",
    "    plt.xlabel('Iterations (per 100s)')\n",
    "    plt.title(\"Learning Rate= \" + str(learning_rate))\n",
    "    plt.show()\n",
    "    return parameters\n"
   ]
  },
  {
   "cell_type": "code",
   "execution_count": 202,
   "id": "d77ae99a-ee00-47b8-a120-050a5e8f4ccd",
   "metadata": {},
   "outputs": [
    {
     "name": "stdout",
     "output_type": "stream",
     "text": [
      "Cost after every iteration 0: 0.6930497356599888 \n",
      "Cost after every iteration 100: 0.6464320953428849 \n",
      "Cost after every iteration 200: 0.6325140647912677 \n",
      "Cost after every iteration 300: 0.6015024920354665 \n",
      "Cost after every iteration 400: 0.5601966311605748 \n",
      "Cost after every iteration 500: 0.5158304772764729 \n",
      "Cost after every iteration 600: 0.47549013139433255 \n",
      "Cost after every iteration 700: 0.4339163151225749 \n",
      "Cost after every iteration 800: 0.400797753620389 \n",
      "Cost after every iteration 900: 0.3580705011323798 \n",
      "Cost after every iteration 1000: 0.3394281538366412 \n",
      "Cost after every iteration 1100: 0.3052753636196263 \n",
      "Cost after every iteration 1200: 0.27491377282130197 \n",
      "Cost after every iteration 1300: 0.24681768210614846 \n",
      "Cost after every iteration 1400: 0.19850735037466088 \n",
      "Cost after every iteration 1500: 0.17448318112556663 \n",
      "Cost after every iteration 1600: 0.17080762978096237 \n",
      "Cost after every iteration 1700: 0.11306524562164721 \n",
      "Cost after every iteration 1800: 0.09629426845937147 \n",
      "Cost after every iteration 1900: 0.08342617959726861 \n",
      "Cost after every iteration 2000: 0.07439078704319078 \n",
      "Cost after every iteration 2100: 0.06630748132267926 \n",
      "Cost after every iteration 2200: 0.059193295010381654 \n",
      "Cost after every iteration 2300: 0.05336140348560552 \n",
      "Cost after every iteration 2400: 0.04855478562877016 \n"
     ]
    },
    {
     "data": {
      "image/png": "[encoded data removed]",
      "text/plain": [
       "<Figure size 500x400 with 1 Axes>"
      ]
     },
     "metadata": {},
     "output_type": "display_data"
    }
   ],
   "source": [
    "parameters = two_layer_model(train_x, train_y, layer_dims= (n_x, n_h, n_y), num_iterations= 2500, print_cost= True  )"
   ]
  },
  {
   "cell_type": "code",
   "execution_count": 212,
   "id": "a2c82f64-d840-4cc5-89e2-5c837ed10180",
   "metadata": {},
   "outputs": [
    {
     "name": "stdout",
     "output_type": "stream",
     "text": [
      "Accuracy: 0.9999999999999998\n"
     ]
    }
   ],
   "source": [
    "pred_train = predict(train_x, train_y, parameters)"
   ]
  },
  {
   "cell_type": "code",
   "execution_count": 243,
   "id": "e206bf37-d53d-4eb6-b1e9-3b211129a631",
   "metadata": {},
   "outputs": [
    {
     "name": "stdout",
     "output_type": "stream",
     "text": [
      "Accuracy: 0.8899521531100477\n"
     ]
    }
   ],
   "source": [
    "pred_train = predict(train_x, train_y, parameters)"
   ]
  },
  {
   "cell_type": "code",
   "execution_count": 216,
   "id": "e666c989-e6fa-4156-9bbf-c8cb70d5ef95",
   "metadata": {},
   "outputs": [
    {
     "name": "stdout",
     "output_type": "stream",
     "text": [
      "Accuracy: 0.72\n"
     ]
    }
   ],
   "source": [
    "pred_test= predict(test_x, test_y, parameters)"
   ]
  },
  {
   "cell_type": "markdown",
   "id": "5e8f4b4c-8632-4f7b-848c-bcd22d9688fe",
   "metadata": {},
   "source": [
    "**L-Layer NN**"
   ]
  },
  {
   "cell_type": "code",
   "execution_count": 233,
   "id": "98843340-b334-45f6-b8ee-d5b3d6b123af",
   "metadata": {},
   "outputs": [],
   "source": [
    "def L_layer_model(X, Y, layer_dims, learning_rate= 0.075, num_iterations= 3000, print_cost= False):\n",
    "\n",
    "    np.random.seed(1)\n",
    "    costs = []\n",
    "\n",
    "    parameters = initialize_parameters_deep(layer_dims)\n",
    "\n",
    "    for i in range(0, num_iterations):\n",
    "\n",
    "        AL, caches = L_model_forward(X, parameters)\n",
    "\n",
    "        cost = compute_cost(AL, Y)\n",
    "\n",
    "        grads = L_model_backward(AL, Y, caches)\n",
    "\n",
    "        parameters = update_parameters(parameters, grads, learning_rate)\n",
    "        \n",
    "        if print_cost and i%100 == 0:\n",
    "            print(\"Cost after every 100 Iteration %i: %f\" %(i, cost))\n",
    "        if print_cost and i%100 == 0:\n",
    "            costs.append(cost)\n",
    "\n",
    "    plt.clf()\n",
    "    plt.plot(np.squeeze(costs))\n",
    "    plt.ylabel('Cost')\n",
    "    plt.xlabel('Iterations (per 100s)')\n",
    "    plt.title(\"Learning Rate= \" + str(learning_rate))\n",
    "    plt.show()\n",
    "    return parameters"
   ]
  },
  {
   "cell_type": "code",
   "execution_count": 235,
   "id": "46d33d72-9cab-44a4-84a8-f9a2ab21b636",
   "metadata": {},
   "outputs": [
    {
     "name": "stdout",
     "output_type": "stream",
     "text": [
      "Cost after every 100 Iteration 0: 0.695046\n",
      "Cost after every 100 Iteration 100: 0.576272\n",
      "Cost after every 100 Iteration 200: 0.601729\n",
      "Cost after every 100 Iteration 300: 0.570167\n",
      "Cost after every 100 Iteration 400: 0.569466\n",
      "Cost after every 100 Iteration 500: 0.538526\n",
      "Cost after every 100 Iteration 600: 0.672302\n",
      "Cost after every 100 Iteration 700: 0.459273\n",
      "Cost after every 100 Iteration 800: 0.474537\n",
      "Cost after every 100 Iteration 900: 0.524969\n",
      "Cost after every 100 Iteration 1000: 0.658312\n",
      "Cost after every 100 Iteration 1100: 0.487615\n",
      "Cost after every 100 Iteration 1200: 0.350722\n",
      "Cost after every 100 Iteration 1300: 0.294419\n",
      "Cost after every 100 Iteration 1400: 0.387912\n",
      "Cost after every 100 Iteration 1500: 0.305151\n",
      "Cost after every 100 Iteration 1600: 0.372043\n",
      "Cost after every 100 Iteration 1700: 0.257901\n",
      "Cost after every 100 Iteration 1800: 0.253731\n",
      "Cost after every 100 Iteration 1900: 0.252428\n",
      "Cost after every 100 Iteration 2000: 0.256633\n",
      "Cost after every 100 Iteration 2100: 0.253270\n",
      "Cost after every 100 Iteration 2200: 0.255154\n",
      "Cost after every 100 Iteration 2300: 0.252640\n",
      "Cost after every 100 Iteration 2400: 0.833986\n"
     ]
    },
    {
     "data": {
      "image/png": "[encoded data removed]",
      "text/plain": [
       "<Figure size 500x400 with 1 Axes>"
      ]
     },
     "metadata": {},
     "output_type": "display_data"
    }
   ],
   "source": [
    "parameters = L_layer_model(train_x, train_y, layer_dims, num_iterations= 2500, print_cost= True)"
   ]
  },
  {
   "cell_type": "code",
   "execution_count": 247,
   "id": "d919f339-38ab-4435-a9a7-c9ca02517821",
   "metadata": {},
   "outputs": [
    {
     "name": "stdout",
     "output_type": "stream",
     "text": [
      "Accuracy: 0.8899521531100477\n"
     ]
    }
   ],
   "source": [
    "pred_train = predict(train_x, train_y, parameters)"
   ]
  },
  {
   "cell_type": "code",
   "execution_count": 249,
   "id": "7b2d3ed9-1a3f-41e1-a23c-95535f67b426",
   "metadata": {},
   "outputs": [
    {
     "name": "stdout",
     "output_type": "stream",
     "text": [
      "Accuracy: 0.6200000000000001\n"
     ]
    }
   ],
   "source": [
    "predict_test = predict(test_x, test_y, parameters)"
   ]
  },
  {
   "cell_type": "code",
   "execution_count": 259,
   "id": "88ce8850-57d6-474f-b765-8ed2526010ca",
   "metadata": {},
   "outputs": [],
   "source": [
    "plt.clf()\n",
    "print_mislabeled_images(classes,test_x, test_y, pred_test)"
   ]
  }
 ],
 "metadata": {
  "kernelspec": {
   "display_name": "Python [conda env:base] *",
   "language": "python",
   "name": "conda-base-py"
  },
  "language_info": {
   "codemirror_mode": {
    "name": "ipython",
    "version": 3
   },
   "file_extension": ".py",
   "mimetype": "text/x-python",
   "name": "python",
   "nbconvert_exporter": "python",
   "pygments_lexer": "ipython3",
   "version": "3.12.7"
  }
 },
 "nbformat": 4,
 "nbformat_minor": 5
}
